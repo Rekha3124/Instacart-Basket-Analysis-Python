{
 "cells": [
  {
   "cell_type": "markdown",
   "id": "8f896903",
   "metadata": {},
   "source": [
    "# Importing Libraries"
   ]
  },
  {
   "cell_type": "code",
   "execution_count": null,
   "id": "ae1bba62",
   "metadata": {},
   "outputs": [],
   "source": [
    "# Importing Libraries"
   ]
  },
  {
   "cell_type": "code",
   "execution_count": 1,
   "id": "f2729c8f",
   "metadata": {},
   "outputs": [],
   "source": [
    "import pandas as pd\n",
    "import numpy as np\n",
    "import os"
   ]
  },
  {
   "cell_type": "markdown",
   "id": "d9b5b7ea",
   "metadata": {},
   "source": [
    "# Python Data Types"
   ]
  },
  {
   "cell_type": "code",
   "execution_count": null,
   "id": "2113228c",
   "metadata": {},
   "outputs": [],
   "source": [
    "# Code 3 different ways of reaching a result of 100"
   ]
  },
  {
   "cell_type": "code",
   "execution_count": 2,
   "id": "7b96964b",
   "metadata": {},
   "outputs": [],
   "source": [
    "# First way\n",
    "x = 50\n",
    "y = 50\n",
    "z = x+y"
   ]
  },
  {
   "cell_type": "code",
   "execution_count": 4,
   "id": "dcde5023",
   "metadata": {},
   "outputs": [
    {
     "name": "stdout",
     "output_type": "stream",
     "text": [
      "100\n"
     ]
    }
   ],
   "source": [
    "print(z)"
   ]
  },
  {
   "cell_type": "code",
   "execution_count": 5,
   "id": "8c317e3d",
   "metadata": {},
   "outputs": [],
   "source": [
    "# Second way\n",
    "x = 200\n",
    "y = 100\n",
    "z = x-y"
   ]
  },
  {
   "cell_type": "code",
   "execution_count": 6,
   "id": "305d5e3b",
   "metadata": {},
   "outputs": [
    {
     "name": "stdout",
     "output_type": "stream",
     "text": [
      "100\n"
     ]
    }
   ],
   "source": [
    "print(z)"
   ]
  },
  {
   "cell_type": "code",
   "execution_count": 14,
   "id": "d1b8b2d3",
   "metadata": {},
   "outputs": [],
   "source": [
    "# Third way\n",
    "x = -50\n",
    "y = -50\n",
    "z = (-x)+(-y)"
   ]
  },
  {
   "cell_type": "code",
   "execution_count": 15,
   "id": "f3b93fb4",
   "metadata": {},
   "outputs": [
    {
     "name": "stdout",
     "output_type": "stream",
     "text": [
      "100\n"
     ]
    }
   ],
   "source": [
    "print(z)"
   ]
  },
  {
   "cell_type": "code",
   "execution_count": 25,
   "id": "3452c46a",
   "metadata": {},
   "outputs": [],
   "source": [
    "# Code 2 floating-point variables and divide them by each other"
   ]
  },
  {
   "cell_type": "code",
   "execution_count": 16,
   "id": "07d1a14c",
   "metadata": {},
   "outputs": [],
   "source": [
    "# First way\n",
    "a = 1.23\n",
    "b = 5.46\n",
    "c = a/b"
   ]
  },
  {
   "cell_type": "code",
   "execution_count": 17,
   "id": "73659413",
   "metadata": {},
   "outputs": [
    {
     "name": "stdout",
     "output_type": "stream",
     "text": [
      "0.22527472527472528\n"
     ]
    }
   ],
   "source": [
    "print(c)"
   ]
  },
  {
   "cell_type": "code",
   "execution_count": 18,
   "id": "6dc6329d",
   "metadata": {},
   "outputs": [],
   "source": [
    "# Second way\n",
    "a = 7.89\n",
    "b = 4.36\n",
    "c = a/b"
   ]
  },
  {
   "cell_type": "code",
   "execution_count": 19,
   "id": "db17083d",
   "metadata": {},
   "outputs": [
    {
     "name": "stdout",
     "output_type": "stream",
     "text": [
      "1.8096330275229355\n"
     ]
    }
   ],
   "source": [
    "print(c)"
   ]
  },
  {
   "cell_type": "code",
   "execution_count": null,
   "id": "7d903adb",
   "metadata": {},
   "outputs": [],
   "source": [
    "# Construct a short word made of separate strings"
   ]
  },
  {
   "cell_type": "code",
   "execution_count": 20,
   "id": "ad64da06",
   "metadata": {},
   "outputs": [
    {
     "name": "stdout",
     "output_type": "stream",
     "text": [
      "Rekha\n"
     ]
    }
   ],
   "source": [
    "a = 'Re'\n",
    "b = 'kha'\n",
    "c = a+b\n",
    "print(c)"
   ]
  },
  {
   "cell_type": "code",
   "execution_count": null,
   "id": "55f1d39b",
   "metadata": {},
   "outputs": [],
   "source": [
    "# Construct 2 short sentences made of separate strings."
   ]
  },
  {
   "cell_type": "code",
   "execution_count": 21,
   "id": "b54b1a08",
   "metadata": {},
   "outputs": [
    {
     "name": "stdout",
     "output_type": "stream",
     "text": [
      "Hello World\n"
     ]
    }
   ],
   "source": [
    "a = 'Hello '\n",
    "b = 'World'\n",
    "c = a+b\n",
    "print(c)"
   ]
  },
  {
   "cell_type": "code",
   "execution_count": 22,
   "id": "3e71241e",
   "metadata": {},
   "outputs": [
    {
     "name": "stdout",
     "output_type": "stream",
     "text": [
      "I live in Canada\n"
     ]
    }
   ],
   "source": [
    "x = 'I '\n",
    "y = 'live '\n",
    "z = 'in '\n",
    "p = 'Canada'\n",
    "q = x+y+z+p\n",
    "print(q)"
   ]
  },
  {
   "cell_type": "code",
   "execution_count": null,
   "id": "8aaa49c0",
   "metadata": {},
   "outputs": [],
   "source": [
    "# include a command that makes a string appear 100 times"
   ]
  },
  {
   "cell_type": "code",
   "execution_count": 23,
   "id": "c0b6ffc6",
   "metadata": {},
   "outputs": [
    {
     "name": "stdout",
     "output_type": "stream",
     "text": [
      "hihihihihihihihihihihihihihihihihihihihihihihihihihihihihihihihihihihihihihihihihihihihihihihihihihihihihihihihihihihihihihihihihihihihihihihihihihihihihihihihihihihihihihihihihihihihihihihihihihihihi\n"
     ]
    }
   ],
   "source": [
    "x = 'hi'\n",
    "y = x*100\n",
    "print(y)"
   ]
  }
 ],
 "metadata": {
  "kernelspec": {
   "display_name": "Python 3 (ipykernel)",
   "language": "python",
   "name": "python3"
  },
  "language_info": {
   "codemirror_mode": {
    "name": "ipython",
    "version": 3
   },
   "file_extension": ".py",
   "mimetype": "text/x-python",
   "name": "python",
   "nbconvert_exporter": "python",
   "pygments_lexer": "ipython3",
   "version": "3.9.13"
  }
 },
 "nbformat": 4,
 "nbformat_minor": 5
}
